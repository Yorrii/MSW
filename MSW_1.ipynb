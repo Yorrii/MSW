{
 "cells": [
  {
   "cell_type": "code",
   "execution_count": 7,
   "metadata": {},
   "outputs": [],
   "source": [
    "import numpy as np\n",
    "import timeit"
   ]
  },
  {
   "cell_type": "code",
   "execution_count": 46,
   "metadata": {},
   "outputs": [],
   "source": [
    "#vectors\n",
    "vA = [5,6,7]\n",
    "vB = [3,2,3]\n",
    "np_vA, np_vB= np.array(vA), np.array(vB)\n",
    "#matrix\n",
    "mA= [[1,1,1], [1,1,1], [1,1,1]]\n",
    "mB= [[1,2,1], [3,4,3], [5,6,5]]\n",
    "np_mA, np_mB= np.matrix(mA), np.matrix(mB)"
   ]
  },
  {
   "cell_type": "code",
   "execution_count": 50,
   "metadata": {},
   "outputs": [
    {
     "name": "stdout",
     "output_type": "stream",
     "text": [
      "48 48\n",
      "Scalar product using numpy: 0.18201730004511774/s for 100000 repeats\n",
      "Scalar product using standart python: 0.0935518000042066/s for 100000 repeats\n"
     ]
    }
   ],
   "source": [
    "def scalar_prodact(A, B):\n",
    "    return sum(x*y for x, y in zip(A, B))\n",
    "\n",
    "def np_scalar_prodact(A, B):\n",
    "    return np.dot(A, B)\n",
    "\n",
    "print(np_scalar_prodact(np_vA, np_vB), scalar_prodact(vA, vB))\n",
    "\n",
    "# numpy starts to be more effective for array longer then 14 numbers\n",
    "print(f\"Scalar product using numpy: {timeit.timeit(lambda: np_scalar_prodact(np_vA, np_vB), number=100000)}/s for 100000 repeats\")\n",
    "print(f\"Scalar product using standart python: {timeit.timeit(lambda: scalar_prodact(vA, vB), number=100000)}/s for 100000 repeats\")"
   ]
  },
  {
   "cell_type": "code",
   "execution_count": 49,
   "metadata": {},
   "outputs": [
    {
     "name": "stdout",
     "output_type": "stream",
     "text": [
      "[ 8  8 10] [8, 8, 10]\n",
      "Scalar product using numpy: 0.09411329997237772/s for 100000 repeats\n",
      "Scalar product using standart python: 0.07579359994269907/s for 100000 repeats\n"
     ]
    }
   ],
   "source": [
    "def vector_addition(A, B):\n",
    "    return [x+y for x,y in zip(A, B)]\n",
    "\n",
    "def np_vector_addition(A, B):\n",
    "    return A+B\n",
    "\n",
    "print(np_vector_addition(np_vA, np_vB), vector_addition(vA, vB))\n",
    "\n",
    "print(f\"Scalar product using numpy: {timeit.timeit(lambda: np_vector_addition(np_vA, np_vB), number=100000)}/s for 100000 repeats\")\n",
    "print(f\"Scalar product using standart python: {timeit.timeit(lambda: vector_addition(vA, vB), number=100000)}/s for 100000 repeats\")"
   ]
  },
  {
   "cell_type": "code",
   "execution_count": 55,
   "metadata": {},
   "outputs": [
    {
     "name": "stdout",
     "output_type": "stream",
     "text": [
      "[[2 3 2]\n",
      " [4 5 4]\n",
      " [6 7 6]] [2, 3, 2] [4, 5, 4] [6, 7, 6]\n",
      "Addition of matrexes using numpy: 0.293477899977006/s for 100000 repeats\n",
      "Addition of matrexes using standart python: 0.4683958999812603/s for 100000 repeats\n"
     ]
    }
   ],
   "source": [
    "def matrix_addition(A, B):\n",
    "    assert len(A) == len(B) & len(A[0]) == len(B[0]), \"Wrong matrix shape\"\n",
    "    x = [[0 for i in range(len(A[0]))] for j in range(len(A))]\n",
    "    for i in range(len(A)):\n",
    "        for j in range(len(A[0])):\n",
    "            x[i][j] = A[i][j] + B[i][j]\n",
    "    return x\n",
    "\n",
    "def np_matrix_addition(A, B):\n",
    "    return A+B\n",
    "\n",
    "print(np_matrix_addition(np_mA, np_mB), matrix_addition(mA, mB))\n",
    "\n",
    "print(f\"Addition of matrexes using numpy: {timeit.timeit(lambda: np_matrix_addition(np_mA, np_mB), number= 100000)}/s for 100000 repeats\")\n",
    "print(f\"Addition of matrexes using standart python: {timeit.timeit(lambda: matrix_addition(mA, mB), number= 100000)}/s for 100000 repeats\")    "
   ]
  },
  {
   "cell_type": "code",
   "execution_count": 56,
   "metadata": {},
   "outputs": [
    {
     "name": "stdout",
     "output_type": "stream",
     "text": [
      "[[ 0 -1  0]\n",
      " [-2 -3 -2]\n",
      " [-4 -5 -4]] [[0, -1, 0], [-2, -3, -2], [-4, -5, -4]]\n",
      "Substraction of matrexes using numpy: 0.2876343000680208/s for 100000 repeats\n",
      "Substraction of matrexes using standart python: 0.4613460999680683/s for 100000 repeats\n"
     ]
    }
   ],
   "source": [
    "def matrix_subtraction(A, B):\n",
    "    assert len(A) == len(B) & len(A[0]) == len(B[0]), \"Wrong matrix shape\"\n",
    "    x = [[0 for i in range(len(A[0]))] for j in range(len(A))]\n",
    "    for i in range(len(A)):\n",
    "        for j in range(len(A[0])):\n",
    "            x[i][j] = A[i][j] - B[i][j]\n",
    "    return x\n",
    "\n",
    "def np_matrix_subtraction(A, B):\n",
    "    return A-B\n",
    "\n",
    "print(np_matrix_subtraction(np_mA, np_mB), matrix_subtraction(mA, mB))\n",
    "\n",
    "print(f\"Substraction of matrexes using numpy: {timeit.timeit(lambda: np_matrix_subtraction(np_mA, np_mB), number= 100000)}/s for 100000 repeats\")\n",
    "print(f\"Substraction of matrexes using standart python: {timeit.timeit(lambda: matrix_subtraction(mA, mB), number= 100000)}/s for 100000 repeats\")"
   ]
  },
  {
   "cell_type": "code",
   "execution_count": 57,
   "metadata": {},
   "outputs": [
    {
     "name": "stdout",
     "output_type": "stream",
     "text": [
      "[[ 9 12  9]\n",
      " [ 9 12  9]\n",
      " [ 9 12  9]] [[9, 12, 9], [9, 12, 9], [9, 12, 9]]\n",
      "Multiplication of matrixes using numpy: 0.6756167999701574/s for 100000 repeats\n",
      "Multiplication of matrixes using standart python: 1.1128971999278292/s for 100000 repeats\n"
     ]
    }
   ],
   "source": [
    "def matrix_multiply(A, B):\n",
    "    assert len(A) == len(B[0]), \"Rows are not equal to columns!\"\n",
    "    x = [[0 for i in range(len(B[0]))] for j in range(len(A))]\n",
    "    for i in range(len(A)):\n",
    "        for j in range(len(B[0])):\n",
    "            for k in range(len(A[0])):\n",
    "                x[i][j] += A[i][k] * B[k][j]\n",
    "    return x\n",
    "\n",
    "def np_matrix_multiply(A, B):\n",
    "    return A*B\n",
    "\n",
    "print(np_matrix_multiply(np_mA, np_mB), matrix_multiply(mA, mB))\n",
    "\n",
    "print(f\"Multiplication of matrixes using numpy: {timeit.timeit(lambda: np_matrix_multiply(np_mA, np_mB), number= 100000)}/s for 100000 repeats\")\n",
    "print(f\"Multiplication of matrixes using standart python: {timeit.timeit(lambda: matrix_multiply(mA, mB), number= 100000)}/s for 100000 repeats\")"
   ]
  }
 ],
 "metadata": {
  "kernelspec": {
   "display_name": "Python 3.10.0 64-bit (system)",
   "language": "python",
   "name": "python3"
  },
  "language_info": {
   "codemirror_mode": {
    "name": "ipython",
    "version": 3
   },
   "file_extension": ".py",
   "mimetype": "text/x-python",
   "name": "python",
   "nbconvert_exporter": "python",
   "pygments_lexer": "ipython3",
   "version": "3.10.0"
  },
  "orig_nbformat": 4,
  "vscode": {
   "interpreter": {
    "hash": "26a4d81f21bdacc437778eed44bed1109a3c638540b1e41ec2681d56871e2ee2"
   }
  }
 },
 "nbformat": 4,
 "nbformat_minor": 2
}
