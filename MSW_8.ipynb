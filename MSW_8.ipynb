{
 "cells": [
  {
   "cell_type": "code",
   "execution_count": 2,
   "metadata": {},
   "outputs": [
    {
     "name": "stdout",
     "output_type": "stream",
     "text": [
      "Difference between forward derivation with constant and adaptive step is: 3.839999999999961\n",
      "Difference between central derivation with constant and adaptive step is: 0.23999999999997712\n",
      "Difference between backward derivation with constant and adaptive step is: 3.3600000000000065\n"
     ]
    }
   ],
   "source": [
    "def forward_derivate(f, x0, h):\n",
    "    return (f(x0+h) - f(x0))/h\n",
    "\n",
    "def backward_derivate(f, x0, h):\n",
    "    return (f(x0) - f(x0-h))/h\n",
    "\n",
    "def central_derivate(f, x0, h):\n",
    "    return (f(x0+h) - f(x0-h))/(2*h)\n",
    "\n",
    "function = lambda x: x**3\n",
    "x0 = 3\n",
    "h1 = 0.5\n",
    "ad_step = float(input(\"Insert number for adaptive step (less is better): \"))\n",
    "\n",
    "print(f\"Difference between forward derivation with constant and adaptive step is: {abs(forward_derivate(function, x0, h1) - forward_derivate(function, x0, ad_step))}\")\n",
    "print(f\"Difference between central derivation with constant and adaptive step is: {abs(central_derivate(function, x0, h1) - central_derivate(function, x0, ad_step))}\")\n",
    "print(f\"Difference between backward derivation with constant and adaptive step is: {abs(backward_derivate(function, x0, h1) - backward_derivate(function, x0, ad_step))}\")\n"
   ]
  }
 ],
 "metadata": {
  "kernelspec": {
   "display_name": "Python 3.10.0 64-bit (system)",
   "language": "python",
   "name": "python3"
  },
  "language_info": {
   "codemirror_mode": {
    "name": "ipython",
    "version": 3
   },
   "file_extension": ".py",
   "mimetype": "text/x-python",
   "name": "python",
   "nbconvert_exporter": "python",
   "pygments_lexer": "ipython3",
   "version": "3.10.0"
  },
  "orig_nbformat": 4,
  "vscode": {
   "interpreter": {
    "hash": "26a4d81f21bdacc437778eed44bed1109a3c638540b1e41ec2681d56871e2ee2"
   }
  }
 },
 "nbformat": 4,
 "nbformat_minor": 2
}
